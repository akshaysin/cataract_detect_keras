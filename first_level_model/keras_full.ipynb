{
 "cells": [
  {
   "cell_type": "code",
   "execution_count": 4,
   "metadata": {},
   "outputs": [],
   "source": [
    "import numpy as np\n",
    "import matplotlib.pyplot as plt\n",
    "import matplotlib \n",
    "import os\n",
    "import theano\n",
    "from PIL import Image\n",
    "from numpy import *\n",
    "import cv2 as cv\n",
    "\n",
    "from sklearn.utils import shuffle\n",
    "from sklearn.cross_validation import train_test_split\n",
    "\n",
    "from keras.models import Sequential\n",
    "from keras.layers import Dense, Dropout, Activation, Flatten\n",
    "from keras.layers import Convolution2D, MaxPooling2D\n",
    "from keras.utils import np_utils"
   ]
  },
  {
   "cell_type": "code",
   "execution_count": 6,
   "metadata": {},
   "outputs": [
    {
     "data": {
      "text/plain": [
       "(128, 128, 3)"
      ]
     },
     "execution_count": 6,
     "metadata": {},
     "output_type": "execute_result"
    }
   ],
   "source": [
    "# Read image here in an list\n",
    "path = \"input_path\"\n",
    "listing = os.listdir(path)\n",
    "count=size(listing)\n",
    "\n",
    "# Validate size of an random image is 128*128\n",
    "im_random=cv.imread(\"input_path//{0}\".format(listing[23]))\n",
    "im_random.shape"
   ]
  },
  {
   "cell_type": "code",
   "execution_count": 7,
   "metadata": {},
   "outputs": [
    {
     "name": "stdout",
     "output_type": "stream",
     "text": [
      "(1000, 49152)\n",
      "<class 'numpy.ndarray'>\n",
      "2\n"
     ]
    }
   ],
   "source": [
    "# Convert the image data into an imatrix. imatrix would just be a flat represetation of each image's pixel data in each row.\n",
    "# This imatrix is whats gonna be used to create X_train, X_validation and X_test data.\n",
    "imatrix = np.array([cv.imread(\"input_path//{0}\".format(img)).flatten() for img in listing])\n",
    "# imatrix = []\n",
    "# for img in listing:\n",
    "#     im_reading_now=cv.imread(\"input_path//{0}\".format(img))\n",
    "#     imatrix = np.vstack((imatrix,im_reading_now.flatten()))\n",
    "print (imatrix.shape)\n",
    "print (type(imatrix))\n",
    "print (imatrix.ndim)"
   ]
  },
  {
   "cell_type": "code",
   "execution_count": 8,
   "metadata": {},
   "outputs": [
    {
     "data": {
      "text/plain": [
       "1000"
      ]
     },
     "execution_count": 8,
     "metadata": {},
     "output_type": "execute_result"
    }
   ],
   "source": [
    "# Lets create y, i.e labels. This is whats gonna be used to create Y_train, Y_validation and Y_test data.\n",
    "label=np.ones((count,), dtype=int)\n",
    "label[0:501]=0\n",
    "label[501:1001]=1\n",
    "size(label)"
   ]
  },
  {
   "cell_type": "code",
   "execution_count": 9,
   "metadata": {},
   "outputs": [],
   "source": [
    "# Lets randomnly suffle the data to avoid overfitting\n",
    "data,label=shuffle(imatrix,label,random_state=2)\n",
    "train_data=[data,label]"
   ]
  },
  {
   "cell_type": "code",
   "execution_count": 22,
   "metadata": {},
   "outputs": [],
   "source": [
    "# Keras Parameters\n",
    "batch_size = 32\n",
    "nb_classes = 2\n",
    "nb_epoch = 15\n",
    "img_rows, img_col = 128, 128\n",
    "img_channels = 3\n",
    "nb_filters = 32\n",
    "nb_pool = 2\n",
    "nb_conv = 3"
   ]
  },
  {
   "cell_type": "code",
   "execution_count": 23,
   "metadata": {},
   "outputs": [
    {
     "data": {
      "text/plain": [
       "(1000, 49152)"
      ]
     },
     "execution_count": 23,
     "metadata": {},
     "output_type": "execute_result"
    }
   ],
   "source": [
    "(X,y) = (train_data[0],train_data[1])\n",
    "X.shape"
   ]
  },
  {
   "cell_type": "code",
   "execution_count": 24,
   "metadata": {},
   "outputs": [],
   "source": [
    "# Splitting X and y in training and test data\n",
    "X_train, X_test, y_train, y_test = train_test_split(X,y, test_size=0.2, random_state=4)"
   ]
  },
  {
   "cell_type": "code",
   "execution_count": 25,
   "metadata": {},
   "outputs": [],
   "source": [
    "# Splitting X_train and y_train in training and validation data\n",
    "X_train, X_val, y_train, y_val = train_test_split(X_train,y_train, test_size=0.2, random_state=4)"
   ]
  },
  {
   "cell_type": "code",
   "execution_count": 26,
   "metadata": {},
   "outputs": [
    {
     "name": "stdout",
     "output_type": "stream",
     "text": [
      "X_train : (640, 49152)\n",
      "y_train :(640,)\n",
      "X_val : (160, 49152)\n",
      "y_val : (160,)\n",
      "X_test : (200, 49152)\n",
      "y_test : (200,)\n"
     ]
    }
   ],
   "source": [
    "# Validating the individual sizes\n",
    "print (\"X_train : {0}\".format(X_train.shape))\n",
    "print (\"y_train :{0}\".format(y_train.shape))\n",
    "\n",
    "print (\"X_val : {0}\".format(X_val.shape))\n",
    "print (\"y_val : {0}\".format(y_val.shape))\n",
    "\n",
    "print (\"X_test : {0}\".format(X_test.shape))\n",
    "print (\"y_test : {0}\".format(y_test.shape))"
   ]
  },
  {
   "cell_type": "code",
   "execution_count": 27,
   "metadata": {},
   "outputs": [],
   "source": [
    "# Reshaping the data to pass to CNN\n",
    "X_train = X_train.reshape(X_train.shape[0], 3, 128, 128)\n",
    "X_val = X_val.reshape(X_val.shape[0], 3, 128, 128)\n",
    "X_test = X_test.reshape(X_test.shape[0], 3, 128, 128)\n",
    "\n",
    "y_train = np_utils.to_categorical(y_train, nb_classes)\n",
    "y_val = np_utils.to_categorical(y_val, nb_classes)\n",
    "y_test = np_utils.to_categorical(y_test, nb_classes)"
   ]
  },
  {
   "cell_type": "code",
   "execution_count": 28,
   "metadata": {},
   "outputs": [
    {
     "name": "stdout",
     "output_type": "stream",
     "text": [
      "X_train : (640, 3, 128, 128)\n",
      "y_train :(640, 2)\n",
      "X_val : (160, 3, 128, 128)\n",
      "y_val : (160, 2)\n",
      "X_test : (200, 3, 128, 128)\n",
      "y_test : (200, 2)\n"
     ]
    }
   ],
   "source": [
    "# Validating the individual sizes\n",
    "print (\"X_train : {0}\".format(X_train.shape))\n",
    "print (\"y_train :{0}\".format(y_train.shape))\n",
    "\n",
    "print (\"X_val : {0}\".format(X_val.shape))\n",
    "print (\"y_val : {0}\".format(y_val.shape))\n",
    "\n",
    "print (\"X_test : {0}\".format(X_test.shape))\n",
    "print (\"y_test : {0}\".format(y_test.shape))"
   ]
  },
  {
   "cell_type": "code",
   "execution_count": 29,
   "metadata": {},
   "outputs": [],
   "source": [
    "# Regularize the data\n",
    "X_train = X_train.astype('float32')\n",
    "X_val = X_val.astype('float32')\n",
    "X_test = X_test.astype('float32')\n",
    "\n",
    "X_train /= 255\n",
    "X_val /= 255\n",
    "X_test /= 255"
   ]
  },
  {
   "cell_type": "code",
   "execution_count": 30,
   "metadata": {},
   "outputs": [
    {
     "name": "stderr",
     "output_type": "stream",
     "text": [
      "c:\\users\\aksha\\appdata\\local\\programs\\python\\python36\\lib\\site-packages\\ipykernel_launcher.py:9: UserWarning: Update your `Conv2D` call to the Keras 2 API: `Conv2D(32, (3, 3), activation=\"relu\", input_shape=(3, 128, 1..., data_format=\"channels_first\", padding=\"valid\")`\n",
      "  if __name__ == '__main__':\n",
      "c:\\users\\aksha\\appdata\\local\\programs\\python\\python36\\lib\\site-packages\\ipykernel_launcher.py:10: UserWarning: Update your `Conv2D` call to the Keras 2 API: `Conv2D(32, (3, 3), activation=\"relu\")`\n",
      "  # Remove the CWD from sys.path while we load stuff.\n"
     ]
    }
   ],
   "source": [
    "# Define model now\n",
    "model = Sequential()\n",
    "\n",
    "model.add(Convolution2D(nb_filters,\n",
    "                        (nb_conv,nb_conv),\n",
    "                        border_mode='valid',\n",
    "                        activation='relu', \n",
    "                        input_shape=(img_channels,img_rows,img_col), \n",
    "                        data_format = 'channels_first'))\n",
    "model.add(Convolution2D(nb_filters, nb_conv, nb_conv, activation='relu'))\n",
    "model.add(MaxPooling2D(pool_size=(nb_pool,nb_pool)))\n",
    "model.add(Dropout(0.5))\n",
    "\n",
    "model.add(Flatten())\n",
    "model.add(Dense(128, activation='relu'))\n",
    "model.add(Dropout(0.5))\n",
    "model.add(Dense(nb_classes, activation='softmax'))\n",
    "\n",
    "model.compile(loss='categorical_crossentropy',\n",
    "              optimizer='adam',\n",
    "              metrics=['accuracy'])"
   ]
  },
  {
   "cell_type": "code",
   "execution_count": 31,
   "metadata": {
    "scrolled": true
   },
   "outputs": [
    {
     "name": "stdout",
     "output_type": "stream",
     "text": [
      "Train on 640 samples, validate on 160 samples\n",
      "Epoch 1/15\n",
      "640/640 [==============================] - 23s 35ms/step - loss: 1.1582 - acc: 0.5828 - val_loss: 0.5737 - val_acc: 0.7562\n",
      "Epoch 2/15\n",
      "640/640 [==============================] - 22s 34ms/step - loss: 0.3995 - acc: 0.8562 - val_loss: 0.3346 - val_acc: 0.8938\n",
      "Epoch 3/15\n",
      "640/640 [==============================] - 22s 34ms/step - loss: 0.3030 - acc: 0.9172 - val_loss: 0.2926 - val_acc: 0.9062\n",
      "Epoch 4/15\n",
      "640/640 [==============================] - 22s 35ms/step - loss: 0.2296 - acc: 0.9250 - val_loss: 0.2483 - val_acc: 0.8938\n",
      "Epoch 5/15\n",
      "640/640 [==============================] - 22s 35ms/step - loss: 0.2065 - acc: 0.9312 - val_loss: 0.2001 - val_acc: 0.9187\n",
      "Epoch 6/15\n",
      "640/640 [==============================] - 22s 35ms/step - loss: 0.1577 - acc: 0.9328 - val_loss: 0.1831 - val_acc: 0.9187\n",
      "Epoch 7/15\n",
      "640/640 [==============================] - 22s 35ms/step - loss: 0.1436 - acc: 0.9469 - val_loss: 0.1579 - val_acc: 0.9313\n",
      "Epoch 8/15\n",
      "640/640 [==============================] - 23s 36ms/step - loss: 0.1138 - acc: 0.9672 - val_loss: 0.1609 - val_acc: 0.9437\n",
      "Epoch 9/15\n",
      "640/640 [==============================] - 23s 36ms/step - loss: 0.0903 - acc: 0.9750 - val_loss: 0.1505 - val_acc: 0.9563\n",
      "Epoch 10/15\n",
      "640/640 [==============================] - 23s 35ms/step - loss: 0.0667 - acc: 0.9875 - val_loss: 0.1316 - val_acc: 0.9500\n",
      "Epoch 11/15\n",
      "640/640 [==============================] - 23s 36ms/step - loss: 0.0501 - acc: 0.9844 - val_loss: 0.1499 - val_acc: 0.9563\n",
      "Epoch 12/15\n",
      "640/640 [==============================] - 23s 36ms/step - loss: 0.0437 - acc: 0.9828 - val_loss: 0.1416 - val_acc: 0.9563\n",
      "Epoch 13/15\n",
      "640/640 [==============================] - 23s 35ms/step - loss: 0.0347 - acc: 0.9906 - val_loss: 0.1260 - val_acc: 0.9625\n",
      "Epoch 14/15\n",
      "640/640 [==============================] - 23s 36ms/step - loss: 0.0304 - acc: 0.9906 - val_loss: 0.2367 - val_acc: 0.9375\n",
      "Epoch 15/15\n",
      "640/640 [==============================] - 26s 40ms/step - loss: 0.0455 - acc: 0.9844 - val_loss: 0.1465 - val_acc: 0.9563\n"
     ]
    }
   ],
   "source": [
    "history = model.fit(X_train, y_train, batch_size=batch_size, epochs=nb_epoch,\n",
    "         verbose=1, validation_data=(X_val,y_val))"
   ]
  },
  {
   "cell_type": "code",
   "execution_count": 32,
   "metadata": {},
   "outputs": [
    {
     "data": {
      "image/png": "[encoded data removed]",
      "text/plain": [
       "<Figure size 432x288 with 1 Axes>"
      ]
     },
     "metadata": {},
     "output_type": "display_data"
    },
    {
     "data": {
      "image/png": "[encoded data removed]",
      "text/plain": [
       "<Figure size 432x288 with 1 Axes>"
      ]
     },
     "metadata": {},
     "output_type": "display_data"
    }
   ],
   "source": [
    "import matplotlib.pyplot as plt\n",
    "# summarize history for accuracy\n",
    "plt.plot(history.history['acc'])\n",
    "plt.plot(history.history['val_acc'])\n",
    "plt.title('model accuracy')\n",
    "plt.ylabel('accuracy')\n",
    "plt.xlabel('epoch')\n",
    "plt.legend(['train', 'val'], loc='upper left')\n",
    "plt.show()\n",
    "# summarize history for loss\n",
    "plt.plot(history.history['loss'])\n",
    "plt.plot(history.history['val_loss'])\n",
    "plt.title('model loss')\n",
    "plt.ylabel('loss')\n",
    "plt.xlabel('epoch')\n",
    "plt.legend(['train', 'val'], loc='upper left')\n",
    "plt.show()"
   ]
  },
  {
   "cell_type": "code",
   "execution_count": 33,
   "metadata": {},
   "outputs": [
    {
     "name": "stdout",
     "output_type": "stream",
     "text": [
      "200/200 [==============================] - 5s 24ms/step\n",
      "Test Score : 0.09597467705607414\n",
      "Test accuracy:  0.975\n",
      "[0 0 1 0]\n",
      "[[1. 0.]\n",
      " [1. 0.]\n",
      " [0. 1.]\n",
      " [1. 0.]]\n"
     ]
    }
   ],
   "source": [
    "# Test this trained model on our test data\n",
    "score = model.evaluate(X_test, y_test, verbose=1)\n",
    "print (\"Test Score :\", score[0])\n",
    "print (\"Test accuracy: \", score[1])\n",
    "print (model.predict_classes(X_test[1:5]))\n",
    "print (y_test[1:5])"
   ]
  },
  {
   "cell_type": "code",
   "execution_count": 34,
   "metadata": {},
   "outputs": [
    {
     "name": "stdout",
     "output_type": "stream",
     "text": [
      "Saved model to disk\n"
     ]
    }
   ],
   "source": [
    "# Now lets save the model to disk\n",
    "# serialize model to JSON\n",
    "model_json = model.to_json()\n",
    "with open(\"model.json\", \"w\") as json_file:\n",
    "    json_file.write(model_json)\n",
    "# serialize weights to HDF5\n",
    "model.save_weights(\"model.h5\")\n",
    "model.save(\"whole_model.h5\")\n",
    "print(\"Saved model to disk\")"
   ]
  },
  {
   "cell_type": "code",
   "execution_count": 24,
   "metadata": {},
   "outputs": [
    {
     "name": "stdout",
     "output_type": "stream",
     "text": [
      "Loaded model from disk\n"
     ]
    }
   ],
   "source": [
    "from keras.models import model_from_json\n",
    "# load json and create model\n",
    "json_file = open('model.json', 'r')\n",
    "loaded_model_json = json_file.read()\n",
    "json_file.close()\n",
    "loaded_model = model_from_json(loaded_model_json)\n",
    "# load weights into new model\n",
    "loaded_model.load_weights(\"model.h5\")\n",
    "print(\"Loaded model from disk\")"
   ]
  },
  {
   "cell_type": "code",
   "execution_count": null,
   "metadata": {},
   "outputs": [],
   "source": []
  }
 ],
 "metadata": {
  "kernelspec": {
   "display_name": "Python 3",
   "language": "python",
   "name": "python3"
  },
  "language_info": {
   "codemirror_mode": {
    "name": "ipython",
    "version": 3
   },
   "file_extension": ".py",
   "mimetype": "text/x-python",
   "name": "python",
   "nbconvert_exporter": "python",
   "pygments_lexer": "ipython3",
   "version": "3.6.5rc1"
  }
 },
 "nbformat": 4,
 "nbformat_minor": 2
}
